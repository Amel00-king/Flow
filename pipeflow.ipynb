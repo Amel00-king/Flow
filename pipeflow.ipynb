{
 "cells": [
  {
   "cell_type": "markdown",
   "metadata": {},
   "source": [
    "**Fluid Flow in a Pipe Simulation**\n",
    "\n",
    "This notebook is a small project to show some skills I have developed in creating PDE simulations. \n",
    "I will try to create a velocity flow field visualizer for fluid in a cylindrical pipe that changes with different inputs. "
   ]
  },
  {
   "cell_type": "code",
   "execution_count": 1,
   "metadata": {},
   "outputs": [],
   "source": [
    "import numpy as np\n",
    "import matplotlib.pyplot as plt\n",
    "from ipywidgets import interact, FloatSlider\n",
    "\n",
    "# Function to calculate velocity profile\n",
    "def velocity_profile(r, R, V_max):\n",
    "    return V_max * (1 - (r / R)**2)\n",
    "\n",
    "# Function to plot the velocity profile\n",
    "def plot_velocity_profile(R=1.0, V_max=1.0):\n",
    "    r = np.linspace(0, R, 100)\n",
    "    v = velocity_profile(r, R, V_max)\n",
    "    \n",
    "    plt.figure(figsize=(10, 6))\n",
    "    plt.plot(r, v, label=f'R = {R}, V_max = {V_max}')\n",
    "    plt.xlabel('Radius (r)')\n",
    "    plt.ylabel('Velocity (v)')\n",
    "    plt.title('Velocity Profile in Pipe Cross-section')\n",
    "    plt.legend()\n",
    "    plt.grid(True)\n",
    "    plt.show()\n",
    "\n",
    "# Create interactive widgets\n",
    "R_slider = FloatSlider(min=0.1, max=5.0, step=0.1, value=1.0, description='Radius (R)')\n",
    "V_max_slider = FloatSlider(min=0.1, max=10.0, step=0.1, value=1.0, description='Max Velocity (V_max)')\n",
    "\n",
    "interact(plot_velocity_profile, R=R_slider, V_max=V_max_slider)\n"
   ]
  }
 ],
 "metadata": {
  "kernelspec": {
   "display_name": "Python 3",
   "language": "python",
   "name": "python3"
  },
  "language_info": {
   "codemirror_mode": {
    "name": "ipython",
    "version": 3
   },
   "file_extension": ".py",
   "mimetype": "text/x-python",
   "name": "python",
   "nbconvert_exporter": "python",
   "pygments_lexer": "ipython3",
   "version": "3.11.8"
  }
 },
 "nbformat": 4,
 "nbformat_minor": 2
}
